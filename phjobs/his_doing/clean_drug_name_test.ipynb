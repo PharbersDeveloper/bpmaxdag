{
 "cells": [
  {
   "cell_type": "code",
   "execution_count": 1,
   "id": "psychological-nation",
   "metadata": {},
   "outputs": [],
   "source": [
    "##\n",
    "# @pandas_udf(\"string\", PandasUDFType.SCALAR)\n",
    "# def change(iterator: Iterator[pd.Series]) -> Iterator[pd.Series]:\n",
    "#     temp = iterator.str.replace({r'.*(莫西沙星).*': \"莫西沙星\", r'.*(左氧氟沙星).*':\"左氧氟沙星\",\n",
    "#                          r'.*(头孢曲松).*':\"头孢曲松\", r'.*(阿奇霉素).*': \"阿奇霉素\",\n",
    "#                     r'.*(头孢噻肟).*':\"头孢噻肟钠\" })\n",
    "#     return temp\n",
    "\n",
    "# # data_temp = data_patient.withColumn(\"DRUG_NAME_STD\", changeSpecification( col(\"DRUG_NAME\"))) \n",
    "# data_temp = data_patient.withColumn(\"DRUG_NAME_STD\", change( data_patient[\"DRUG_NAME\"]) ) \n",
    "# data_temp.show(1, vertical=True)"
   ]
  },
  {
   "cell_type": "code",
   "execution_count": null,
   "id": "breeding-stack",
   "metadata": {},
   "outputs": [],
   "source": [
    "# import pandas as pd\n",
    "# from pyspark.sql.functions import pandas_udf\n",
    "from pyspark.sql.functions import PandasUDFType\n",
    "\n",
    "@pandas_udf(\"string\")\n",
    "def to_upper(s: pd.Series) -> pd.Series:\n",
    "    return s.str.upper()\n",
    "\n",
    "df = spark.createDataFrame([(\"John Doe\",)], (\"name\",))\n",
    "df.select(to_upper(\"name\")).show()\n",
    "\n",
    "\n",
    "from typing import Iterator\n",
    "\n",
    "### panda_udf在定义的时候，这些不同参数有何影响\n",
    "@pandas_udf(\"string\", PandasUDFType.SCALAR)\n",
    "# @pandas_udf(\"string\")\n",
    "def plus_one(iterator: Iterator[pd.Series]) -> Iterator[pd.Series]:\n",
    "    return  iterator.str.replace(r\".*[a-z]\", \"--\") \n",
    "\n",
    "\n",
    "# df = spark.createDataFrame(pd.DataFrame([1, 2, 3], columns=[\"v\"]))\n",
    "df = spark.createDataFrame(pd.DataFrame([\"1a\", \"2b\", \"3c\"], columns=[\"v\"]))\n",
    "df.show()\n",
    "df.withColumn( \"aa\" , plus_one(df.v)).show()\n",
    "\n",
    "# df.replace({r\".*[a-z]\":\"haha\"}, subset=\"v\").show()"
   ]
  }
 ],
 "metadata": {
  "kernelspec": {
   "display_name": "Python 3",
   "language": "python",
   "name": "python3"
  },
  "language_info": {
   "codemirror_mode": {
    "name": "ipython",
    "version": 3
   },
   "file_extension": ".py",
   "mimetype": "text/x-python",
   "name": "python",
   "nbconvert_exporter": "python",
   "pygments_lexer": "ipython3",
   "version": "3.8.5"
  }
 },
 "nbformat": 4,
 "nbformat_minor": 5
}
