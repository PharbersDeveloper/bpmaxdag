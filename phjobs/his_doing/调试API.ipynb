{
 "cells": [
  {
   "cell_type": "code",
   "execution_count": 1,
   "id": "leading-georgia",
   "metadata": {},
   "outputs": [],
   "source": [
    "id = c(1,2,1,4,2)\n",
    "year = c(1980, 1990, 2000, 2010, 2020)\n",
    "salary = c(2000, 3000, 4000, 5000, 6000)\n",
    "df = data.frame(id, year, salary)"
   ]
  },
  {
   "cell_type": "code",
   "execution_count": 3,
   "id": "canadian-diabetes",
   "metadata": {},
   "outputs": [
    {
     "data": {
      "text/html": [
       "'a b'"
      ],
      "text/latex": [
       "'a b'"
      ],
      "text/markdown": [
       "'a b'"
      ],
      "text/plain": [
       "[1] \"a b\""
      ]
     },
     "metadata": {},
     "output_type": "display_data"
    }
   ],
   "source": [
    "paste(\"a\", \"b\") "
   ]
  },
  {
   "cell_type": "code",
   "execution_count": 4,
   "id": "consistent-might",
   "metadata": {},
   "outputs": [
    {
     "data": {
      "text/html": [
       "<style>\n",
       ".list-inline {list-style: none; margin:0; padding: 0}\n",
       ".list-inline>li {display: inline-block}\n",
       ".list-inline>li:not(:last-child)::after {content: \"\\00b7\"; padding: 0 .5ex}\n",
       "</style>\n",
       "<ol class=list-inline><li>'a1'</li><li>'a2'</li><li>'a3'</li><li>'a4'</li><li>'a5'</li></ol>\n"
      ],
      "text/latex": [
       "\\begin{enumerate*}\n",
       "\\item 'a1'\n",
       "\\item 'a2'\n",
       "\\item 'a3'\n",
       "\\item 'a4'\n",
       "\\item 'a5'\n",
       "\\end{enumerate*}\n"
      ],
      "text/markdown": [
       "1. 'a1'\n",
       "2. 'a2'\n",
       "3. 'a3'\n",
       "4. 'a4'\n",
       "5. 'a5'\n",
       "\n",
       "\n"
      ],
      "text/plain": [
       "[1] \"a1\" \"a2\" \"a3\" \"a4\" \"a5\""
      ]
     },
     "metadata": {},
     "output_type": "display_data"
    }
   ],
   "source": [
    "paste(\"a\", 1:5, sep = \"\") "
   ]
  },
  {
   "cell_type": "code",
   "execution_count": 5,
   "id": "genuine-pillow",
   "metadata": {},
   "outputs": [
    {
     "data": {
      "text/html": [
       "<style>\n",
       ".list-inline {list-style: none; margin:0; padding: 0}\n",
       ".list-inline>li {display: inline-block}\n",
       ".list-inline>li:not(:last-child)::after {content: \"\\00b7\"; padding: 0 .5ex}\n",
       "</style>\n",
       "<ol class=list-inline><li>'a1.pdf'</li><li>'a2.pdf'</li><li>'a3.pdf'</li><li>'a4.pdf'</li><li>'a5.pdf'</li></ol>\n"
      ],
      "text/latex": [
       "\\begin{enumerate*}\n",
       "\\item 'a1.pdf'\n",
       "\\item 'a2.pdf'\n",
       "\\item 'a3.pdf'\n",
       "\\item 'a4.pdf'\n",
       "\\item 'a5.pdf'\n",
       "\\end{enumerate*}\n"
      ],
      "text/markdown": [
       "1. 'a1.pdf'\n",
       "2. 'a2.pdf'\n",
       "3. 'a3.pdf'\n",
       "4. 'a4.pdf'\n",
       "5. 'a5.pdf'\n",
       "\n",
       "\n"
      ],
      "text/plain": [
       "[1] \"a1.pdf\" \"a2.pdf\" \"a3.pdf\" \"a4.pdf\" \"a5.pdf\""
      ]
     },
     "metadata": {},
     "output_type": "display_data"
    }
   ],
   "source": [
    "paste(\"a\",1:5,\".pdf\", sep = \"\")"
   ]
  },
  {
   "cell_type": "code",
   "execution_count": 6,
   "id": "focal-finding",
   "metadata": {},
   "outputs": [
    {
     "data": {
      "text/html": [
       "<style>\n",
       ".list-inline {list-style: none; margin:0; padding: 0}\n",
       ".list-inline>li {display: inline-block}\n",
       ".list-inline>li:not(:last-child)::after {content: \"\\00b7\"; padding: 0 .5ex}\n",
       "</style>\n",
       "<ol class=list-inline><li>'一'</li><li>'二'</li><li>'三'</li><li>'四'</li><li>'五'</li><li>'六'</li><li>'日'</li></ol>\n"
      ],
      "text/latex": [
       "\\begin{enumerate*}\n",
       "\\item '一'\n",
       "\\item '二'\n",
       "\\item '三'\n",
       "\\item '四'\n",
       "\\item '五'\n",
       "\\item '六'\n",
       "\\item '日'\n",
       "\\end{enumerate*}\n"
      ],
      "text/markdown": [
       "1. '一'\n",
       "2. '二'\n",
       "3. '三'\n",
       "4. '四'\n",
       "5. '五'\n",
       "6. '六'\n",
       "7. '日'\n",
       "\n",
       "\n"
      ],
      "text/plain": [
       "[1] \"一\" \"二\" \"三\" \"四\" \"五\" \"六\" \"日\""
      ]
     },
     "metadata": {},
     "output_type": "display_data"
    }
   ],
   "source": [
    "a <- unlist(strsplit(\"一二三四五六日\", split=\"\"))\n",
    "a"
   ]
  },
  {
   "cell_type": "code",
   "execution_count": 8,
   "id": "necessary-administrator",
   "metadata": {},
   "outputs": [
    {
     "data": {
      "text/html": [
       "<style>\n",
       ".list-inline {list-style: none; margin:0; padding: 0}\n",
       ".list-inline>li {display: inline-block}\n",
       ".list-inline>li:not(:last-child)::after {content: \"\\00b7\"; padding: 0 .5ex}\n",
       "</style>\n",
       "<ol class=list-inline><li>'一'</li><li>'两'</li><li>'三四'</li></ol>\n"
      ],
      "text/latex": [
       "\\begin{enumerate*}\n",
       "\\item '一'\n",
       "\\item '两'\n",
       "\\item '三四'\n",
       "\\end{enumerate*}\n"
      ],
      "text/markdown": [
       "1. '一'\n",
       "2. '两'\n",
       "3. '三四'\n",
       "\n",
       "\n"
      ],
      "text/plain": [
       "[1] \"一\"   \"两\"   \"三四\""
      ]
     },
     "metadata": {},
     "output_type": "display_data"
    }
   ],
   "source": [
    "a <- c(\"一\", \"两\", \"三四\")\n",
    "a"
   ]
  },
  {
   "cell_type": "code",
   "execution_count": 13,
   "id": "dying-target",
   "metadata": {},
   "outputs": [
    {
     "data": {
      "text/html": [
       "'一+两+三四'"
      ],
      "text/latex": [
       "'一+两+三四'"
      ],
      "text/markdown": [
       "'一+两+三四'"
      ],
      "text/plain": [
       "[1] \"一+两+三四\""
      ]
     },
     "metadata": {},
     "output_type": "display_data"
    }
   ],
   "source": [
    "# paste(a, \"片\", sep=\"--\", collapse=\"+\")\n",
    "paste(a, collapse=\"+\")"
   ]
  },
  {
   "cell_type": "code",
   "execution_count": 2,
   "id": "coral-rochester",
   "metadata": {},
   "outputs": [
    {
     "name": "stderr",
     "output_type": "stream",
     "text": [
      "\n",
      "Attaching package: ‘dplyr’\n",
      "\n",
      "\n",
      "The following objects are masked from ‘package:stats’:\n",
      "\n",
      "    filter, lag\n",
      "\n",
      "\n",
      "The following objects are masked from ‘package:base’:\n",
      "\n",
      "    intersect, setdiff, setequal, union\n",
      "\n",
      "\n"
     ]
    },
    {
     "data": {
      "text/html": [
       "<table>\n",
       "<caption>A data.frame: 6 × 4</caption>\n",
       "<thead>\n",
       "\t<tr><th scope=col>id</th><th scope=col>name</th><th scope=col>shuxue</th><th scope=col>yuwen</th></tr>\n",
       "\t<tr><th scope=col>&lt;int&gt;</th><th scope=col>&lt;chr&gt;</th><th scope=col>&lt;dbl&gt;</th><th scope=col>&lt;dbl&gt;</th></tr>\n",
       "</thead>\n",
       "<tbody>\n",
       "\t<tr><td>1</td><td>wang </td><td>89</td><td>77</td></tr>\n",
       "\t<tr><td>2</td><td>zhang</td><td>85</td><td>68</td></tr>\n",
       "\t<tr><td>3</td><td>li   </td><td>68</td><td>86</td></tr>\n",
       "\t<tr><td>4</td><td>chen </td><td>79</td><td>87</td></tr>\n",
       "\t<tr><td>5</td><td>zhao </td><td>96</td><td>92</td></tr>\n",
       "\t<tr><td>6</td><td>song </td><td>53</td><td>63</td></tr>\n",
       "</tbody>\n",
       "</table>\n"
      ],
      "text/latex": [
       "A data.frame: 6 × 4\n",
       "\\begin{tabular}{llll}\n",
       " id & name & shuxue & yuwen\\\\\n",
       " <int> & <chr> & <dbl> & <dbl>\\\\\n",
       "\\hline\n",
       "\t 1 & wang  & 89 & 77\\\\\n",
       "\t 2 & zhang & 85 & 68\\\\\n",
       "\t 3 & li    & 68 & 86\\\\\n",
       "\t 4 & chen  & 79 & 87\\\\\n",
       "\t 5 & zhao  & 96 & 92\\\\\n",
       "\t 6 & song  & 53 & 63\\\\\n",
       "\\end{tabular}\n"
      ],
      "text/markdown": [
       "\n",
       "A data.frame: 6 × 4\n",
       "\n",
       "| id &lt;int&gt; | name &lt;chr&gt; | shuxue &lt;dbl&gt; | yuwen &lt;dbl&gt; |\n",
       "|---|---|---|---|\n",
       "| 1 | wang  | 89 | 77 |\n",
       "| 2 | zhang | 85 | 68 |\n",
       "| 3 | li    | 68 | 86 |\n",
       "| 4 | chen  | 79 | 87 |\n",
       "| 5 | zhao  | 96 | 92 |\n",
       "| 6 | song  | 53 | 63 |\n",
       "\n"
      ],
      "text/plain": [
       "  id name  shuxue yuwen\n",
       "1 1  wang  89     77   \n",
       "2 2  zhang 85     68   \n",
       "3 3  li    68     86   \n",
       "4 4  chen  79     87   \n",
       "5 5  zhao  96     92   \n",
       "6 6  song  53     63   "
      ]
     },
     "metadata": {},
     "output_type": "display_data"
    }
   ],
   "source": [
    "library(dplyr)\n",
    "x<-data.frame(id=1:6,\n",
    "              name=c(\"wang\",\"zhang\",\"li\",\"chen\",\"zhao\",\"song\"),\n",
    "              shuxue=c(89,85,68,79,96,53),\n",
    "              yuwen=c(77,68,86,87,92,63))\n",
    "x"
   ]
  },
  {
   "cell_type": "code",
   "execution_count": 12,
   "id": "realistic-barrier",
   "metadata": {},
   "outputs": [
    {
     "name": "stderr",
     "output_type": "stream",
     "text": [
      "`summarise()` ungrouping output (override with `.groups` argument)\n",
      "\n"
     ]
    },
    {
     "data": {
      "text/html": [
       "<table>\n",
       "<caption>A tibble: 3 × 2</caption>\n",
       "<thead>\n",
       "\t<tr><th scope=col>shuxue</th><th scope=col>haha</th></tr>\n",
       "\t<tr><th scope=col>&lt;chr&gt;</th><th scope=col>&lt;chr&gt;</th></tr>\n",
       "</thead>\n",
       "<tbody>\n",
       "\t<tr><td>a</td><td>wang+zhang</td></tr>\n",
       "\t<tr><td>b</td><td>li+chen   </td></tr>\n",
       "\t<tr><td>c</td><td>zhao+song </td></tr>\n",
       "</tbody>\n",
       "</table>\n"
      ],
      "text/latex": [
       "A tibble: 3 × 2\n",
       "\\begin{tabular}{ll}\n",
       " shuxue & haha\\\\\n",
       " <chr> & <chr>\\\\\n",
       "\\hline\n",
       "\t a & wang+zhang\\\\\n",
       "\t b & li+chen   \\\\\n",
       "\t c & zhao+song \\\\\n",
       "\\end{tabular}\n"
      ],
      "text/markdown": [
       "\n",
       "A tibble: 3 × 2\n",
       "\n",
       "| shuxue &lt;chr&gt; | haha &lt;chr&gt; |\n",
       "|---|---|\n",
       "| a | wang+zhang |\n",
       "| b | li+chen    |\n",
       "| c | zhao+song  |\n",
       "\n"
      ],
      "text/plain": [
       "  shuxue haha      \n",
       "1 a      wang+zhang\n",
       "2 b      li+chen   \n",
       "3 c      zhao+song "
      ]
     },
     "metadata": {},
     "output_type": "display_data"
    }
   ],
   "source": [
    "x<-data.frame(id=1:6,\n",
    "              name=c(\"wang\",\"zhang\",\"li\",\"chen\",\"zhao\",\"song\"),\n",
    "              shuxue=c(\"a\", \"a\", \"b\", \"b\", \"c\", \"c\"),\n",
    "              yuwen=c(77,68,86,87,92,63))\n",
    "y <-x %>%\n",
    "    group_by(shuxue)%>%\n",
    "    summarise( haha= paste0( name, collapse = \"+\"))%>%\n",
    "    ungroup()\n",
    "y"
   ]
  },
  {
   "cell_type": "code",
   "execution_count": 19,
   "id": "described-morning",
   "metadata": {},
   "outputs": [
    {
     "data": {
      "text/html": [
       "<table>\n",
       "<caption>A grouped_df: 6 × 5</caption>\n",
       "<thead>\n",
       "\t<tr><th scope=col>id</th><th scope=col>name</th><th scope=col>shuxue</th><th scope=col>yuwen</th><th scope=col>sequence</th></tr>\n",
       "\t<tr><th scope=col>&lt;int&gt;</th><th scope=col>&lt;chr&gt;</th><th scope=col>&lt;chr&gt;</th><th scope=col>&lt;dbl&gt;</th><th scope=col>&lt;int&gt;</th></tr>\n",
       "</thead>\n",
       "<tbody>\n",
       "\t<tr><td>1</td><td>wang </td><td>a</td><td>77</td><td>1</td></tr>\n",
       "\t<tr><td>2</td><td>zhang</td><td>a</td><td>68</td><td>2</td></tr>\n",
       "\t<tr><td>3</td><td>li   </td><td>b</td><td>86</td><td>1</td></tr>\n",
       "\t<tr><td>4</td><td>chen </td><td>b</td><td>87</td><td>2</td></tr>\n",
       "\t<tr><td>5</td><td>zhao </td><td>c</td><td>92</td><td>1</td></tr>\n",
       "\t<tr><td>6</td><td>song </td><td>c</td><td>63</td><td>2</td></tr>\n",
       "</tbody>\n",
       "</table>\n"
      ],
      "text/latex": [
       "A grouped\\_df: 6 × 5\n",
       "\\begin{tabular}{lllll}\n",
       " id & name & shuxue & yuwen & sequence\\\\\n",
       " <int> & <chr> & <chr> & <dbl> & <int>\\\\\n",
       "\\hline\n",
       "\t 1 & wang  & a & 77 & 1\\\\\n",
       "\t 2 & zhang & a & 68 & 2\\\\\n",
       "\t 3 & li    & b & 86 & 1\\\\\n",
       "\t 4 & chen  & b & 87 & 2\\\\\n",
       "\t 5 & zhao  & c & 92 & 1\\\\\n",
       "\t 6 & song  & c & 63 & 2\\\\\n",
       "\\end{tabular}\n"
      ],
      "text/markdown": [
       "\n",
       "A grouped_df: 6 × 5\n",
       "\n",
       "| id &lt;int&gt; | name &lt;chr&gt; | shuxue &lt;chr&gt; | yuwen &lt;dbl&gt; | sequence &lt;int&gt; |\n",
       "|---|---|---|---|---|\n",
       "| 1 | wang  | a | 77 | 1 |\n",
       "| 2 | zhang | a | 68 | 2 |\n",
       "| 3 | li    | b | 86 | 1 |\n",
       "| 4 | chen  | b | 87 | 2 |\n",
       "| 5 | zhao  | c | 92 | 1 |\n",
       "| 6 | song  | c | 63 | 2 |\n",
       "\n"
      ],
      "text/plain": [
       "  id name  shuxue yuwen sequence\n",
       "1 1  wang  a      77    1       \n",
       "2 2  zhang a      68    2       \n",
       "3 3  li    b      86    1       \n",
       "4 4  chen  b      87    2       \n",
       "5 5  zhao  c      92    1       \n",
       "6 6  song  c      63    2       "
      ]
     },
     "metadata": {},
     "output_type": "display_data"
    }
   ],
   "source": [
    "y <-x %>%\n",
    "    group_by(shuxue)%>%\n",
    "    arrange(\"yuwen\" ) %>%\n",
    "    mutate(sequence = row_number() )\n",
    "y"
   ]
  }
 ],
 "metadata": {
  "kernelspec": {
   "display_name": "Python 3",
   "language": "python",
   "name": "python3"
  },
  "language_info": {
   "codemirror_mode": {
    "name": "ipython",
    "version": 3
   },
   "file_extension": ".py",
   "mimetype": "text/x-python",
   "name": "python",
   "nbconvert_exporter": "python",
   "pygments_lexer": "ipython3",
   "version": "3.7.9"
  }
 },
 "nbformat": 4,
 "nbformat_minor": 5
}
