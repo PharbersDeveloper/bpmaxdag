{
 "cells": [
  {
   "cell_type": "code",
   "execution_count": 1,
   "id": "c152c7e1-e774-4da5-abba-980ed0554677",
   "metadata": {
    "tags": []
   },
   "outputs": [],
   "source": [
    "# Phcli Jupyter Python Template\n",
    "# \n",
    "# 使用手册：\n",
    "# 1. 请将全局变量定义在第一个输入区内\n",
    "# 2. Phcli 会自动在第二个输入区初始化 Spark Session\n",
    "# 3. 所有 print 会在 phcli maxauto dag 后自动转为 logger.debug() 方法\n",
    "# 4. 请在第三个输入区开始编码，phcli maxauto dag 后会全部归类为一个方法\n",
    "\n",
    "\n",
    "# Config defined in here\n",
    "\n",
    "############## == config == ###################\n",
    "job_name = \"compare_patient\"\n",
    "job_runtime = \"python3\"\n",
    "job_command = \"submit\"\n",
    "job_timeout = 720.0\n",
    "############## == config == ###################\n",
    "\n",
    "\n",
    "# Variables defined in here\n",
    "\n",
    "############## == input args == ###################\n",
    "g_input_paramater = 'Empty'\n",
    "############## == input args == ###################\n",
    "\n",
    "############## == output args == ###################\n",
    "g_out_parameter = 'Empty'\n",
    "############## == output args == ###################\n",
    "\n",
    "############## == preset function == ###################\n",
    "from phcli.ph_max_auto.ph_hook.get_abs_path import get_result_path\n",
    "from phcli.ph_max_auto.ph_hook.get_abs_path import get_depends_path\n",
    "# result_path_prefix = get_result_path({\"name\":job_name})\n",
    "# depends_path = get_depends_path({\"name\":job_name})\n",
    "############## == preset function == ###################\n"
   ]
  },
  {
   "cell_type": "code",
   "execution_count": 2,
   "id": "cf962c35-4858-40ed-88bb-63014f17b0d3",
   "metadata": {},
   "outputs": [],
   "source": [
    "from pyspark.sql import SparkSession\n",
    "spark = SparkSession.builder \\\n",
    "    .master(\"yarn\") \\\n",
    "    .appName(\"application name\") \\\n",
    "    .config(\"spark.driver.cores\", \"1\") \\\n",
    "    .config(\"spark.driver.memory\", \"1g\") \\\n",
    "    .config(\"spark.executor.cores\", \"1\") \\\n",
    "    .config(\"spark.executor.memory\", \"2g\") \\\n",
    "    .config(\"spark.executor.instances\", \"2\") \\\n",
    "    .config('spark.sql.execution.arrow.pyspark.enabled', True) \\\n",
    "    .getOrCreate()"
   ]
  },
  {
   "cell_type": "code",
   "execution_count": 3,
   "id": "e95dbaaf-7eea-485c-95af-0f652750bf0c",
   "metadata": {},
   "outputs": [],
   "source": [
    "from pyspark.sql.types import IntegerType, DoubleType, StringType, StructType, StructType\n",
    "from pyspark.sql.functions import col, date_format, count, isnull, lit,first\n",
    "from pyspark.sql.functions import when, isnan,  pandas_udf, PandasUDFType\n",
    "from pyspark.sql import functions as Func\n",
    "from pyspark.sql import DataFrame\n",
    "from pyspark.sql import Window\n",
    "from typing import Iterator\n",
    "import pandas as pd\n",
    "import re\n"
   ]
  },
  {
   "cell_type": "code",
   "execution_count": 4,
   "id": "b71d1c55-d6ee-491a-844a-e0a0c9094879",
   "metadata": {},
   "outputs": [],
   "source": [
    "# %%\n",
    "\n",
    "##\n",
    "##"
   ]
  },
  {
   "cell_type": "code",
   "execution_count": 4,
   "id": "6cd321e5-176a-4cd2-bd34-e8d377cd5a91",
   "metadata": {},
   "outputs": [],
   "source": [
    "# %%\n",
    "## ====== 输入文件和输出文件 ======\n",
    "\n",
    "# \n",
    "g_whether_save_result = True\n",
    "\n",
    "p_main_dir = \"s3://ph-origin-files/user/zazhao/2020年结果-csv/\"\n",
    "\n",
    "\n",
    "# 输入目录\n",
    "p_patient_analyse_std_dir = \"s3://ph-origin-files/user/zazhao/2020年结果-csv/HIS_result/patient_union_drug_analyse_result\"\n",
    "\n",
    "# 输出文件\n",
    "p_patient_std_compare_out = p_main_dir + \"HIS_result/\" + \"compare_data_result\"\n",
    "p_quinolone_result_dir = p_patient_std_compare_out + \"/quinolone_result\"\n",
    "p_cephalosporin_result_dir =p_patient_std_compare_out + \"/cephalosporin_result\"\n",
    "p_result_table_4 = p_main_dir + \"HIS_result/\" + \"Table_result/Table_result_4\""
   ]
  },
  {
   "cell_type": "code",
   "execution_count": 5,
   "id": "f2383d1d-b759-4d83-b4a6-660fa9516ff5",
   "metadata": {},
   "outputs": [],
   "source": [
    "# %%\n",
    "\n",
    "## 读取上一步的输出结果\n",
    "df_patient_analyse_std = spark.read.parquet(p_patient_analyse_std_dir)\n"
   ]
  },
  {
   "cell_type": "code",
   "execution_count": 6,
   "id": "63fbf42e-1105-4f88-ada6-c84773e8f211",
   "metadata": {},
   "outputs": [],
   "source": [
    "# %%\n",
    "\n",
    "df_patient_tag = df_patient_analyse_std.drop_duplicates([c for c in df_patient_analyse_std.columns \n",
    "                                                             if c in [\"医院ID\",\"患者ID\",\"OUT_ID\",\"就诊类型\",\"心律不齐\",\"其他心血管疾病\",\n",
    "                                                                    \"脑血管疾病\",\"神经系统疾病\",\"高血糖\",\"高血脂\",\"肝功能异常\",\"肾功能异常\",\n",
    "                                                                    \"结缔组织病\",\"COPD\",\"哮喘\",\"支气管扩张\",\"恶性实体瘤\",\"心衰\",\"白细胞计数\",\n",
    "                                                                    \"C反应蛋白\",\"降钙素原\",\"嗜肺军团菌\",\n",
    "                                                                    \"肺炎衣原体\",\"肺炎支原体\",\"冠状病毒\",\"合胞病毒\",\"流感病毒\",\"腺病毒\",\n",
    "                                                                    \"柯萨奇病毒\",\"鲍曼氏不动杆菌\",\"大肠埃希菌\",\"肺炎克雷伯菌\",\"肺炎链球菌\",\"金黄色葡萄球菌\",\n",
    "                                                                    \"流感嗜血菌\",\"嗜麦芽寡养单胞菌\",\"嗜麦芽窄食单胞菌\",\"铜绿假单胞菌\",\"阴沟肠杆菌\",\n",
    "                                                                    \"seg1_grp1\",\"seg1_grp2\",\"seg2_grp1\",\"seg3_grp1\",\"seg3_grp2\",\"seg3_grp3\"]])\n",
    "\n",
    "tag_win = Window.partitionBy([\"医院ID\",\"患者ID\",\"OUT_ID\",\"就诊类型\"])\n",
    "# df_patient_tag = df_patient_tag.drop_duplicates(c for c in df_patient_tag.columns if c in [])\n",
    "df_patient_tag = df_patient_tag.withColumn(\"换药当天_标准处方日期\", Func.min( col(\"标准处方日期\") ).over(tag_win)) \\\n",
    "                               .where( col(\"标准处方日期\") == col(\"换药当天_标准处方日期\") )\n",
    "\n",
    "df_patient_tag = df_patient_tag.withColumnRenamed(\"uni_code\",\"pt_uni_code\") \\\n",
    "                         .withColumnRenamed(\"标准医保类型\",\"pt_标准医保类型\") \\\n",
    "                         .withColumnRenamed(\"标准性别\",\"pt_标准性别\") \\\n",
    "                         .withColumnRenamed(\"年龄\",\"pt_年龄\") \\\n",
    "                         .withColumnRenamed(\"标准诊断\",\"pt_标准诊断\") \\\n",
    "                         .withColumnRenamed(\"标准科室\",\"pt_标准科室\")\n"
   ]
  },
  {
   "cell_type": "code",
   "execution_count": 22,
   "id": "45d5bafd-e294-4ca3-8987-a0346478b796",
   "metadata": {},
   "outputs": [
    {
     "name": "stdout",
     "output_type": "stream",
     "text": [
      "3737 3737\n"
     ]
    }
   ],
   "source": [
    "# %%\n",
    "\n",
    "df_table_4_m = df_patient_analyse_std.groupBy([\"医院ID\",\"患者ID\",\"OUT_ID\",\"就诊类型\",\"标准医保类型\",\"标准性别\",\"年龄\",\"标准诊断\",\n",
    "                             \"severe_case\",\"标准科室\",\"formula\",\"mole_comb\",\"single_or_formula\",\"SEQ\",\"标准处方日期\"])\\\n",
    "                            .agg( Func.sum(col(\"金额\")).alias(\"sales\") ) \\\n",
    "                            .withColumn(\"uni_code\",Func.concat(col(\"医院ID\"),col(\"患者ID\"),col(\"OUT_ID\"),col(\"就诊类型\")))\\\n",
    "                            .withColumn(\"标准处方日期\", col(\"标准处方日期\").cast(\"int\"))\n",
    "\n",
    "# table_4_m初始喹诺酮类换药\n",
    "df_quinolone_before = df_table_4_m.filter( (col(\"formula\").rlike('氟喹诺酮') )\\\n",
    "                                    & (col(\"SEQ\") == \"1\")) \\\n",
    "                                  .withColumn(\"uni_code\",Func.concat(col(\"医院ID\"),col(\"患者ID\"),col(\"OUT_ID\"),col(\"就诊类型\")))\n",
    "\n",
    "win1 = Window.partitionBy(\"uni_code\")\n",
    "\n",
    "# after在匹配之前必须得先筛选出与before相同uni_code一部分\n",
    "df_quinolone_after = df_table_4_m.join( df_quinolone_before.select(\"uni_code\").distinct(), on=[\"uni_code\"], how=\"inner\")\n",
    "\n",
    "\n",
    "df_quinolone_after = df_quinolone_after.withColumn(\"first_formula\",  Func.lit(\"氟喹诺酮\"))\\\n",
    "                                    .filter( ~( col(\"formula\") == col(\"first_formula\")) )\\\n",
    "                                    .withColumn(\"换药当天_标准处方日期\",  Func.min(\"标准处方日期\").over(win1) ) \\\n",
    "                                    .filter(col(\"标准处方日期\").isNotNull()) \\\n",
    "                                    .where(col(\"标准处方日期\") == col(\"换药当天_标准处方日期\"))\\\n",
    "                                    .dropDuplicates( [\"uni_code\"])\n",
    "                                                       \n",
    "df_quinolone_before = df_quinolone_before.join( df_quinolone_after.select(\"uni_code\"), on=\"uni_code\", how=\"inner\")\n",
    "\n",
    "df_quinolone_before = df_quinolone_before.dropDuplicates( [\"uni_code\"])\n",
    "\n",
    "\n",
    "# 将字段名换成对应的\n",
    "df_quinolone_before = df_quinolone_before.withColumnRenamed(\"severe_case\",\"severe_case_before\") \\\n",
    "                .withColumnRenamed(\"formula\",\"formula_before\") \\\n",
    "                .withColumnRenamed(\"mole_comb\",\"mole_comb_before\") \\\n",
    "                .withColumnRenamed(\"single_or_formula\",\"single_or_formula_before\") \\\n",
    "                .withColumnRenamed(\"SEQ\",\"SEQ_before\") \\\n",
    "                .withColumnRenamed(\"标准处方日期\",\"std_rx_date_before\") \\\n",
    "                .withColumnRenamed(\"sales\",\"sales_before\") \\\n",
    "                .withColumnRenamed(\"标准医保类型\",\"标准医保类型_before\") \\\n",
    "                .withColumnRenamed(\"标准性别\",\"标准性别_before\") \\\n",
    "                .withColumnRenamed(\"年龄\",\"年龄_before\") \\\n",
    "                .withColumnRenamed(\"标准诊断\",\"标准诊断_before\") \\\n",
    "                .withColumnRenamed(\"标准科室\",\"标准科室_before\")\n",
    "\n",
    "# 为了防止字段重复·影响操作\n",
    "\n",
    "df_quinolone_after = df_quinolone_after.withColumnRenamed(\"severe_case\",\"severe_case_after\")\\\n",
    "                .withColumnRenamed(\"formula\",\"formula_after\") \\\n",
    "                .withColumnRenamed(\"mole_comb\",\"mole_comb_after\") \\\n",
    "                .withColumnRenamed(\"single_or_formula\",\"single_or_formula_after\") \\\n",
    "                .withColumnRenamed(\"SEQ\",\"SEQ_after\") \\\n",
    "                .withColumnRenamed(\"标准处方日期\",\"std_rx_date_after\") \\\n",
    "                .withColumnRenamed(\"sales\",\"sales_after\")\n",
    "\n",
    "\n",
    "\n",
    "df_quinolone_delivery = df_quinolone_after.join(df_quinolone_before, on=[\"医院ID\",\"患者ID\",\"OUT_ID\",\"就诊类型\"], how=\"left\")\n",
    "\n",
    "df_quinolone_delivery = df_quinolone_delivery.join(df_patient_tag,[\"医院ID\",\"患者ID\",\"OUT_ID\",\"就诊类型\"],\"left\")"
   ]
  },
  {
   "cell_type": "code",
   "execution_count": 20,
   "id": "e40f266e-8b04-449d-ae75-4e7932f17eeb",
   "metadata": {},
   "outputs": [
    {
     "name": "stdout",
     "output_type": "stream",
     "text": [
      "2203\n",
      "2203\n",
      "2221\n"
     ]
    }
   ],
   "source": [
    "# %%\n",
    "\n",
    "#初始头孢类换药\n",
    "df_cephalosporin_before = df_table_4_m.filter( (col(\"formula\").rlike('头孢菌素类') )\n",
    "                                    & (col(\"SEQ\") == \"1\"))\n",
    "\n",
    "df_cephalosporin_after = df_table_4_m.join( df_cephalosporin_before.select(\"uni_code\").distinct(), on=[\"uni_code\"], how=\"inner\")\n",
    "\n",
    "win2 = Window.partitionBy(\"uni_code\")\n",
    "df_cephalosporin_after = df_cephalosporin_after.withColumn(\"first_formula\",  Func.lit(\"头孢菌素类\"))\\\n",
    "                                    .filter( ~( col(\"formula\") == col(\"first_formula\")) )\\\n",
    "                                    .withColumn(\"换药当天_标准处方日期\",  Func.min(\"标准处方日期\").over(win2) )\\\n",
    "                                    .where(col(\"标准处方日期\")==col(\"换药当天_标准处方日期\"))\\\n",
    "                                    .drop_duplicates([\"uni_code\"])\n",
    "\n",
    "df_cephalosporin_before = df_cephalosporin_before.join(df_cephalosporin_after.select(\"uni_code\"), on=\"uni_code\", how=\"inner\")\n",
    "df_cephalosporin_before = df_cephalosporin_before.drop_duplicates([\"uni_code\"])\n",
    "\n",
    "# %%%%%%%%%%%%\n",
    "df_cephalosporin_before = df_cephalosporin_before.withColumnRenamed(\"severe_case\",\"severe_case_before\") \\\n",
    "                .withColumnRenamed(\"formula\",\"formula_before\") \\\n",
    "                .withColumnRenamed(\"mole_comb\",\"mole_comb_before\") \\\n",
    "                .withColumnRenamed(\"single_or_formula\",\"single_or_formula_before\") \\\n",
    "                .withColumnRenamed(\"SEQ\",\"SEQ_before\") \\\n",
    "                .withColumnRenamed(\"标准处方日期\",\"std_rx_date_before\") \\\n",
    "                .withColumnRenamed(\"sales\",\"sales_before\") \\\n",
    "                .withColumnRenamed(\"标准医保类型\",\"标准医保类型_before\") \\\n",
    "                .withColumnRenamed(\"标准性别\",\"标准性别_before\") \\\n",
    "                .withColumnRenamed(\"年龄\",\"年龄_before\") \\\n",
    "                .withColumnRenamed(\"标准诊断\",\"标准诊断_before\") \\\n",
    "                .withColumnRenamed(\"标准科室\",\"标准科室_before\")\n",
    "\n",
    "\n",
    "df_cephalosporin_after = df_cephalosporin_after.withColumnRenamed(\"severe_case\",\"severe_case_after\")\\\n",
    "                .withColumnRenamed(\"formula\",\"formula_after\") \\\n",
    "                .withColumnRenamed(\"mole_comb\",\"mole_comb_after\") \\\n",
    "                .withColumnRenamed(\"single_or_formula\",\"single_or_formula_after\") \\\n",
    "                .withColumnRenamed(\"SEQ\",\"SEQ_after\") \\\n",
    "                .withColumnRenamed(\"标准处方日期\",\"std_rx_date_after\") \\\n",
    "                .withColumnRenamed(\"sales\",\"sales_after\")\n",
    "\n",
    "# ************\n",
    "df_cephalosporin_delivery = df_cephalosporin_after.join(df_cephalosporin_before,[\"医院ID\",\"患者ID\",\"OUT_ID\",\"就诊类型\"],\"left\")\n",
    "\n",
    "df_cephalosporin_delivery = df_cephalosporin_delivery.join(df_patient_tag,[\"医院ID\",\"患者ID\",\"OUT_ID\",\"就诊类型\"],\"left\")\n"
   ]
  },
  {
   "cell_type": "code",
   "execution_count": 11,
   "id": "c7a38992-73c8-454f-9869-a9a28c6cf6e5",
   "metadata": {},
   "outputs": [],
   "source": [
    "# %%\n",
    "\n",
    "# 进行判断重症医学科的操作\n",
    "df_quinolone_delivery = df_quinolone_delivery.withColumn(\"std_dept.x\",when(df_quinolone_delivery[\"标准科室\"] == \"重症医学科\",\n",
    "                                                                     \"ICU\").otherwise(col(\"标准诊断\")))\n",
    "\n",
    "df_cephalosporin_delivery = df_cephalosporin_delivery.withColumn(\"std_dept.x\",when(df_cephalosporin_delivery[\"标准科室\"] == \"重症医学科\",\n",
    "                                                                             \"ICU\").otherwise(col(\"标准诊断\")))"
   ]
  },
  {
   "cell_type": "code",
   "execution_count": 2,
   "id": "66d8ed07-ffe5-46f4-bcda-94ecae651a42",
   "metadata": {},
   "outputs": [],
   "source": [
    "# %%\n",
    "# ,\"hap_tag\"暂时未知\n",
    "# 考虑对df_patient_analyse_std中的字段进行去重\n",
    "# df_patient_analyse_std = df_patient_analyse_std.drop_duplicates(c for c in df_patient_analyse_std.columns \n",
    "#                                                                   if c in [\"seg1_grp1\",\"seg1_grp2\",\"seg2_grp1\",\"seg3_grp1\",\"seg3_grp2\",\"seg3_grp3\"])\n",
    "\n",
    "# df_tag_all = df_patient_analyse_std.select(\"就诊类型\",\"患者ID\",\"OUT_ID\",\"seg1_grp1\",\"seg1_grp2\",\"seg2_grp1\",\"seg3_grp1\",\"seg3_grp2\",\"seg3_grp3\") \\\n",
    "#                          .drop_duplicates(c for c in df_patient_tag.columns if c in [\"患者ID\",\"OUT_ID\",\"就诊类型\"])\n",
    "\n",
    "# df_tag_all = df_tag_all.withColumnRenamed(\"seg1_grp1\",\"seg1_grp1_tag\") \\\n",
    "#                  .withColumnRenamed(\"seg1_grp2\",\"seg1_grp2_tag\") \\\n",
    "#                  .withColumnRenamed(\"seg2_grp1\",\"seg2_grp1_tag\") \\\n",
    "#                  .withColumnRenamed(\"seg3_grp1\",\"seg3_grp1_tag\") \\\n",
    "#                  .withColumnRenamed(\"seg3_grp2\",\"seg3_grp2_tag\") \\\n",
    "#                  .withColumnRenamed(\"seg3_grp3\",\"seg3_grp3_tag\")\n",
    "\n",
    "# df_quinolone_delivery = df_quinolone_delivery.join(df_tag_all,[\"患者ID\",\"OUT_ID\",\"就诊类型\"],\"left\")\n",
    "\n",
    "# df_cephalosporin_delivery = df_cephalosporin_delivery.join(df_tag_all,[\"患者ID\",\"OUT_ID\",\"就诊类型\"],\"left\")\n",
    "\n",
    "# print(df_quinolone_delivery.columns)\n",
    "# print(df_cephalosporin_delivery.columns)"
   ]
  },
  {
   "cell_type": "code",
   "execution_count": 13,
   "id": "73903000-90a0-4853-b50d-f5aac7cb8fee",
   "metadata": {},
   "outputs": [],
   "source": [
    "# %%\n",
    "df_table_4 = df_quinolone_delivery.select([\"患者ID\",\"就诊序号\",\"就诊类型\",\"标准医保类型\",\"标准性别\",\"年龄区间\",\"标准诊断\",\"severe_case_before\",\"标准科室\"\n",
    "                              ,\"formula_before\",\"mole_comb_before\",\"single_or_formula_before\",\"SEQ_before\",\"std_rx_date_before\",\n",
    "                             \"sales_before\",\"formula_after\",\"mole_comb_after\",\"single_or_formula_after\",\"SEQ_after\",\"std_rx_date_after\",\n",
    "                             \"sales_after\",\"心律不齐\",\"其他心血管疾病\",\"脑血管疾病\",\"神经系统疾病\",\"高血糖\",\"高血压\",\"高血脂\",\"肝功能异常\",\n",
    "                             \"肾功能异常\",\"结缔组织病\",\"COPD\",\"哮喘\",\"支气管扩张\",\"恶性实体瘤\",\"白细胞计数\",\"C反应蛋白\",\"降钙素原\",\"嗜肺军团菌\",\n",
    "                             \"肺炎衣原体\",\"肺炎支原体\",\"冠状病毒\",\"合胞病毒\",\"流感病毒\",\"腺病毒\",\"柯萨奇病毒\",\"鲍曼氏不动杆菌\",\"大肠埃希菌\",\n",
    "                             \"肺炎克雷伯菌\",\"肺炎链球菌\",\"金黄色葡萄球菌\",\"流感嗜血菌\",\"嗜麦芽寡养单胞菌\",\"嗜麦芽窄食单胞菌\",\"铜绿假单胞菌\",\n",
    "                             \"阴沟肠杆菌\",\"混合感染\"])\n"
   ]
  },
  {
   "cell_type": "code",
   "execution_count": 23,
   "id": "9321ed80-c20c-4086-824a-8f141284573d",
   "metadata": {},
   "outputs": [
    {
     "ename": "AnalysisException",
     "evalue": "Found duplicate column(s) when inserting into s3://ph-origin-files/user/zazhao/2020年结果-csv/HIS_result/compare_data_result/quinolone_result: `min_标准处方日期`, `uni_code`;",
     "output_type": "error",
     "traceback": [
      "\u001b[0;31m---------------------------------------------------------------------------\u001b[0m",
      "\u001b[0;31mAnalysisException\u001b[0m                         Traceback (most recent call last)",
      "\u001b[0;32m<ipython-input-23-5ef64bddd1b3>\u001b[0m in \u001b[0;36m<module>\u001b[0;34m\u001b[0m\n\u001b[1;32m      1\u001b[0m \u001b[0;31m# %%\u001b[0m\u001b[0;34m\u001b[0m\u001b[0;34m\u001b[0m\u001b[0;34m\u001b[0m\u001b[0m\n\u001b[1;32m      2\u001b[0m \u001b[0;34m\u001b[0m\u001b[0m\n\u001b[0;32m----> 3\u001b[0;31m \u001b[0mdf_quinolone_delivery\u001b[0m\u001b[0;34m.\u001b[0m\u001b[0mrepartition\u001b[0m\u001b[0;34m(\u001b[0m\u001b[0;36m2\u001b[0m\u001b[0;34m)\u001b[0m\u001b[0;34m.\u001b[0m\u001b[0mwrite\u001b[0m\u001b[0;34m.\u001b[0m\u001b[0mmode\u001b[0m\u001b[0;34m(\u001b[0m\u001b[0;34m\"overwrite\"\u001b[0m\u001b[0;34m)\u001b[0m\u001b[0;34m.\u001b[0m\u001b[0mparquet\u001b[0m\u001b[0;34m(\u001b[0m \u001b[0mp_quinolone_result_dir\u001b[0m\u001b[0;34m)\u001b[0m\u001b[0;34m\u001b[0m\u001b[0;34m\u001b[0m\u001b[0m\n\u001b[0m\u001b[1;32m      4\u001b[0m \u001b[0;34m\u001b[0m\u001b[0m\n\u001b[1;32m      5\u001b[0m \u001b[0mdf_cephalosporin_delivery\u001b[0m\u001b[0;34m.\u001b[0m\u001b[0mrepartition\u001b[0m\u001b[0;34m(\u001b[0m\u001b[0;36m2\u001b[0m\u001b[0;34m)\u001b[0m\u001b[0;34m.\u001b[0m\u001b[0mwrite\u001b[0m\u001b[0;34m.\u001b[0m\u001b[0mmode\u001b[0m\u001b[0;34m(\u001b[0m\u001b[0;34m\"overwrite\"\u001b[0m\u001b[0;34m)\u001b[0m\u001b[0;34m.\u001b[0m\u001b[0mparquet\u001b[0m\u001b[0;34m(\u001b[0m\u001b[0mp_cephalosporin_result_dir\u001b[0m\u001b[0;34m)\u001b[0m\u001b[0;34m\u001b[0m\u001b[0;34m\u001b[0m\u001b[0m\n",
      "\u001b[0;32m~/.local/lib/python3.7/site-packages/pyspark/sql/readwriter.py\u001b[0m in \u001b[0;36mparquet\u001b[0;34m(self, path, mode, partitionBy, compression)\u001b[0m\n\u001b[1;32m    934\u001b[0m             \u001b[0mself\u001b[0m\u001b[0;34m.\u001b[0m\u001b[0mpartitionBy\u001b[0m\u001b[0;34m(\u001b[0m\u001b[0mpartitionBy\u001b[0m\u001b[0;34m)\u001b[0m\u001b[0;34m\u001b[0m\u001b[0;34m\u001b[0m\u001b[0m\n\u001b[1;32m    935\u001b[0m         \u001b[0mself\u001b[0m\u001b[0;34m.\u001b[0m\u001b[0m_set_opts\u001b[0m\u001b[0;34m(\u001b[0m\u001b[0mcompression\u001b[0m\u001b[0;34m=\u001b[0m\u001b[0mcompression\u001b[0m\u001b[0;34m)\u001b[0m\u001b[0;34m\u001b[0m\u001b[0;34m\u001b[0m\u001b[0m\n\u001b[0;32m--> 936\u001b[0;31m         \u001b[0mself\u001b[0m\u001b[0;34m.\u001b[0m\u001b[0m_jwrite\u001b[0m\u001b[0;34m.\u001b[0m\u001b[0mparquet\u001b[0m\u001b[0;34m(\u001b[0m\u001b[0mpath\u001b[0m\u001b[0;34m)\u001b[0m\u001b[0;34m\u001b[0m\u001b[0;34m\u001b[0m\u001b[0m\n\u001b[0m\u001b[1;32m    937\u001b[0m \u001b[0;34m\u001b[0m\u001b[0m\n\u001b[1;32m    938\u001b[0m     \u001b[0;34m@\u001b[0m\u001b[0msince\u001b[0m\u001b[0;34m(\u001b[0m\u001b[0;36m1.6\u001b[0m\u001b[0;34m)\u001b[0m\u001b[0;34m\u001b[0m\u001b[0;34m\u001b[0m\u001b[0m\n",
      "\u001b[0;32m~/.local/lib/python3.7/site-packages/py4j/java_gateway.py\u001b[0m in \u001b[0;36m__call__\u001b[0;34m(self, *args)\u001b[0m\n\u001b[1;32m   1303\u001b[0m         \u001b[0manswer\u001b[0m \u001b[0;34m=\u001b[0m \u001b[0mself\u001b[0m\u001b[0;34m.\u001b[0m\u001b[0mgateway_client\u001b[0m\u001b[0;34m.\u001b[0m\u001b[0msend_command\u001b[0m\u001b[0;34m(\u001b[0m\u001b[0mcommand\u001b[0m\u001b[0;34m)\u001b[0m\u001b[0;34m\u001b[0m\u001b[0;34m\u001b[0m\u001b[0m\n\u001b[1;32m   1304\u001b[0m         return_value = get_return_value(\n\u001b[0;32m-> 1305\u001b[0;31m             answer, self.gateway_client, self.target_id, self.name)\n\u001b[0m\u001b[1;32m   1306\u001b[0m \u001b[0;34m\u001b[0m\u001b[0m\n\u001b[1;32m   1307\u001b[0m         \u001b[0;32mfor\u001b[0m \u001b[0mtemp_arg\u001b[0m \u001b[0;32min\u001b[0m \u001b[0mtemp_args\u001b[0m\u001b[0;34m:\u001b[0m\u001b[0;34m\u001b[0m\u001b[0;34m\u001b[0m\u001b[0m\n",
      "\u001b[0;32m~/.local/lib/python3.7/site-packages/pyspark/sql/utils.py\u001b[0m in \u001b[0;36mdeco\u001b[0;34m(*a, **kw)\u001b[0m\n\u001b[1;32m    132\u001b[0m                 \u001b[0;31m# Hide where the exception came from that shows a non-Pythonic\u001b[0m\u001b[0;34m\u001b[0m\u001b[0;34m\u001b[0m\u001b[0;34m\u001b[0m\u001b[0m\n\u001b[1;32m    133\u001b[0m                 \u001b[0;31m# JVM exception message.\u001b[0m\u001b[0;34m\u001b[0m\u001b[0;34m\u001b[0m\u001b[0;34m\u001b[0m\u001b[0m\n\u001b[0;32m--> 134\u001b[0;31m                 \u001b[0mraise_from\u001b[0m\u001b[0;34m(\u001b[0m\u001b[0mconverted\u001b[0m\u001b[0;34m)\u001b[0m\u001b[0;34m\u001b[0m\u001b[0;34m\u001b[0m\u001b[0m\n\u001b[0m\u001b[1;32m    135\u001b[0m             \u001b[0;32melse\u001b[0m\u001b[0;34m:\u001b[0m\u001b[0;34m\u001b[0m\u001b[0;34m\u001b[0m\u001b[0m\n\u001b[1;32m    136\u001b[0m                 \u001b[0;32mraise\u001b[0m\u001b[0;34m\u001b[0m\u001b[0;34m\u001b[0m\u001b[0m\n",
      "\u001b[0;32m~/.local/lib/python3.7/site-packages/pyspark/sql/utils.py\u001b[0m in \u001b[0;36mraise_from\u001b[0;34m(e)\u001b[0m\n",
      "\u001b[0;31mAnalysisException\u001b[0m: Found duplicate column(s) when inserting into s3://ph-origin-files/user/zazhao/2020年结果-csv/HIS_result/compare_data_result/quinolone_result: `min_标准处方日期`, `uni_code`;"
     ]
    }
   ],
   "source": [
    "# %%\n",
    "\n",
    "df_quinolone_delivery.repartition(2).write.mode(\"overwrite\").parquet( p_quinolone_result_dir)\n",
    "\n",
    "df_cephalosporin_delivery.repartition(2).write.mode(\"overwrite\").parquet(p_cephalosporin_result_dir)"
   ]
  },
  {
   "cell_type": "code",
   "execution_count": 14,
   "id": "4faad932-a566-4600-abc6-8a8cfb7b0bc8",
   "metadata": {},
   "outputs": [],
   "source": [
    "# %%\n",
    "df_table_4 = df_table_4.repartition(2)\n",
    "df_table_4.write.format(\"parquet\") \\\n",
    "    .mode(\"overwrite\").save(p_result_table_4)"
   ]
  }
 ],
 "metadata": {
  "kernelspec": {
   "display_name": "Python 3",
   "language": "python",
   "name": "python3"
  },
  "language_info": {
   "codemirror_mode": {
    "name": "ipython",
    "version": 3
   },
   "file_extension": ".py",
   "mimetype": "text/x-python",
   "name": "python",
   "nbconvert_exporter": "python",
   "pygments_lexer": "ipython3",
   "version": "3.7.9"
  }
 },
 "nbformat": 4,
 "nbformat_minor": 5
}
